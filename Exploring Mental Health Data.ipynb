{
 "cells": [
  {
   "cell_type": "code",
   "execution_count": 283,
   "id": "fa567c2c-b9ad-4cf3-af97-e22ca65f7e3e",
   "metadata": {
    "collapsed": true,
    "jupyter": {
     "outputs_hidden": true
    }
   },
   "outputs": [
    {
     "name": "stdout",
     "output_type": "stream",
     "text": [
      "Requirement already satisfied: ydata_profiling in c:\\users\\asus\\anaconda3\\lib\\site-packages (4.12.1)\n",
      "Requirement already satisfied: scipy<1.14,>=1.4.1 in c:\\users\\asus\\anaconda3\\lib\\site-packages (from ydata_profiling) (1.13.1)\n",
      "Requirement already satisfied: pandas!=1.4.0,<3,>1.1 in c:\\users\\asus\\anaconda3\\lib\\site-packages (from ydata_profiling) (2.2.2)\n",
      "Requirement already satisfied: matplotlib<3.10,>=3.5 in c:\\users\\asus\\anaconda3\\lib\\site-packages (from ydata_profiling) (3.9.2)\n",
      "Requirement already satisfied: pydantic>=2 in c:\\users\\asus\\anaconda3\\lib\\site-packages (from ydata_profiling) (2.8.2)\n",
      "Requirement already satisfied: PyYAML<6.1,>=5.0.0 in c:\\users\\asus\\anaconda3\\lib\\site-packages (from ydata_profiling) (6.0.1)\n",
      "Requirement already satisfied: jinja2<3.2,>=2.11.1 in c:\\users\\asus\\anaconda3\\lib\\site-packages (from ydata_profiling) (3.1.4)\n",
      "Requirement already satisfied: visions<0.7.7,>=0.7.5 in c:\\users\\asus\\anaconda3\\lib\\site-packages (from visions[type_image_path]<0.7.7,>=0.7.5->ydata_profiling) (0.7.6)\n",
      "Requirement already satisfied: numpy<2.2,>=1.16.0 in c:\\users\\asus\\anaconda3\\lib\\site-packages (from ydata_profiling) (1.26.4)\n",
      "Requirement already satisfied: htmlmin==0.1.12 in c:\\users\\asus\\anaconda3\\lib\\site-packages (from ydata_profiling) (0.1.12)\n",
      "Requirement already satisfied: phik<0.13,>=0.11.1 in c:\\users\\asus\\anaconda3\\lib\\site-packages (from ydata_profiling) (0.12.4)\n",
      "Requirement already satisfied: requests<3,>=2.24.0 in c:\\users\\asus\\anaconda3\\lib\\site-packages (from ydata_profiling) (2.32.3)\n",
      "Requirement already satisfied: tqdm<5,>=4.48.2 in c:\\users\\asus\\anaconda3\\lib\\site-packages (from ydata_profiling) (4.66.5)\n",
      "Requirement already satisfied: seaborn<0.14,>=0.10.1 in c:\\users\\asus\\anaconda3\\lib\\site-packages (from ydata_profiling) (0.13.2)\n",
      "Requirement already satisfied: multimethod<2,>=1.4 in c:\\users\\asus\\anaconda3\\lib\\site-packages (from ydata_profiling) (1.12)\n",
      "Requirement already satisfied: statsmodels<1,>=0.13.2 in c:\\users\\asus\\anaconda3\\lib\\site-packages (from ydata_profiling) (0.14.2)\n",
      "Requirement already satisfied: typeguard<5,>=3 in c:\\users\\asus\\anaconda3\\lib\\site-packages (from ydata_profiling) (4.4.1)\n",
      "Requirement already satisfied: imagehash==4.3.1 in c:\\users\\asus\\anaconda3\\lib\\site-packages (from ydata_profiling) (4.3.1)\n",
      "Requirement already satisfied: wordcloud>=1.9.3 in c:\\users\\asus\\anaconda3\\lib\\site-packages (from ydata_profiling) (1.9.4)\n",
      "Requirement already satisfied: dacite>=1.8 in c:\\users\\asus\\anaconda3\\lib\\site-packages (from ydata_profiling) (1.8.1)\n",
      "Requirement already satisfied: numba<1,>=0.56.0 in c:\\users\\asus\\anaconda3\\lib\\site-packages (from ydata_profiling) (0.60.0)\n",
      "Requirement already satisfied: PyWavelets in c:\\users\\asus\\anaconda3\\lib\\site-packages (from imagehash==4.3.1->ydata_profiling) (1.7.0)\n",
      "Requirement already satisfied: pillow in c:\\users\\asus\\anaconda3\\lib\\site-packages (from imagehash==4.3.1->ydata_profiling) (10.4.0)\n",
      "Requirement already satisfied: MarkupSafe>=2.0 in c:\\users\\asus\\anaconda3\\lib\\site-packages (from jinja2<3.2,>=2.11.1->ydata_profiling) (2.1.3)\n",
      "Requirement already satisfied: contourpy>=1.0.1 in c:\\users\\asus\\anaconda3\\lib\\site-packages (from matplotlib<3.10,>=3.5->ydata_profiling) (1.2.0)\n",
      "Requirement already satisfied: cycler>=0.10 in c:\\users\\asus\\anaconda3\\lib\\site-packages (from matplotlib<3.10,>=3.5->ydata_profiling) (0.11.0)\n",
      "Requirement already satisfied: fonttools>=4.22.0 in c:\\users\\asus\\anaconda3\\lib\\site-packages (from matplotlib<3.10,>=3.5->ydata_profiling) (4.51.0)\n",
      "Requirement already satisfied: kiwisolver>=1.3.1 in c:\\users\\asus\\anaconda3\\lib\\site-packages (from matplotlib<3.10,>=3.5->ydata_profiling) (1.4.4)\n",
      "Requirement already satisfied: packaging>=20.0 in c:\\users\\asus\\anaconda3\\lib\\site-packages (from matplotlib<3.10,>=3.5->ydata_profiling) (24.1)\n",
      "Requirement already satisfied: pyparsing>=2.3.1 in c:\\users\\asus\\anaconda3\\lib\\site-packages (from matplotlib<3.10,>=3.5->ydata_profiling) (3.1.2)\n",
      "Requirement already satisfied: python-dateutil>=2.7 in c:\\users\\asus\\anaconda3\\lib\\site-packages (from matplotlib<3.10,>=3.5->ydata_profiling) (2.9.0.post0)\n",
      "Requirement already satisfied: llvmlite<0.44,>=0.43.0dev0 in c:\\users\\asus\\anaconda3\\lib\\site-packages (from numba<1,>=0.56.0->ydata_profiling) (0.43.0)\n",
      "Requirement already satisfied: pytz>=2020.1 in c:\\users\\asus\\anaconda3\\lib\\site-packages (from pandas!=1.4.0,<3,>1.1->ydata_profiling) (2024.1)\n",
      "Requirement already satisfied: tzdata>=2022.7 in c:\\users\\asus\\anaconda3\\lib\\site-packages (from pandas!=1.4.0,<3,>1.1->ydata_profiling) (2023.3)\n",
      "Requirement already satisfied: joblib>=0.14.1 in c:\\users\\asus\\anaconda3\\lib\\site-packages (from phik<0.13,>=0.11.1->ydata_profiling) (1.1.1)\n",
      "Requirement already satisfied: annotated-types>=0.4.0 in c:\\users\\asus\\anaconda3\\lib\\site-packages (from pydantic>=2->ydata_profiling) (0.6.0)\n",
      "Requirement already satisfied: pydantic-core==2.20.1 in c:\\users\\asus\\anaconda3\\lib\\site-packages (from pydantic>=2->ydata_profiling) (2.20.1)\n",
      "Requirement already satisfied: typing-extensions>=4.6.1 in c:\\users\\asus\\anaconda3\\lib\\site-packages (from pydantic>=2->ydata_profiling) (4.11.0)\n",
      "Requirement already satisfied: charset-normalizer<4,>=2 in c:\\users\\asus\\anaconda3\\lib\\site-packages (from requests<3,>=2.24.0->ydata_profiling) (3.3.2)\n",
      "Requirement already satisfied: idna<4,>=2.5 in c:\\users\\asus\\anaconda3\\lib\\site-packages (from requests<3,>=2.24.0->ydata_profiling) (3.7)\n",
      "Requirement already satisfied: urllib3<3,>=1.21.1 in c:\\users\\asus\\anaconda3\\lib\\site-packages (from requests<3,>=2.24.0->ydata_profiling) (2.2.3)\n",
      "Requirement already satisfied: certifi>=2017.4.17 in c:\\users\\asus\\anaconda3\\lib\\site-packages (from requests<3,>=2.24.0->ydata_profiling) (2024.8.30)\n",
      "Requirement already satisfied: patsy>=0.5.6 in c:\\users\\asus\\anaconda3\\lib\\site-packages (from statsmodels<1,>=0.13.2->ydata_profiling) (0.5.6)\n",
      "Requirement already satisfied: colorama in c:\\users\\asus\\anaconda3\\lib\\site-packages (from tqdm<5,>=4.48.2->ydata_profiling) (0.4.6)\n",
      "Requirement already satisfied: attrs>=19.3.0 in c:\\users\\asus\\anaconda3\\lib\\site-packages (from visions<0.7.7,>=0.7.5->visions[type_image_path]<0.7.7,>=0.7.5->ydata_profiling) (23.1.0)\n",
      "Requirement already satisfied: networkx>=2.4 in c:\\users\\asus\\anaconda3\\lib\\site-packages (from visions<0.7.7,>=0.7.5->visions[type_image_path]<0.7.7,>=0.7.5->ydata_profiling) (3.3)\n",
      "Requirement already satisfied: six in c:\\users\\asus\\anaconda3\\lib\\site-packages (from patsy>=0.5.6->statsmodels<1,>=0.13.2->ydata_profiling) (1.16.0)\n"
     ]
    }
   ],
   "source": [
    "import numpy as np\n",
    "import pandas as pd\n",
    "import seaborn as sns\n",
    "import matplotlib.pyplot as plt\n",
    "!pip install ydata_profiling"
   ]
  },
  {
   "cell_type": "code",
   "execution_count": 855,
   "id": "82baee25-4b05-4898-8ad5-ac661345531f",
   "metadata": {},
   "outputs": [],
   "source": [
    "df=pd.read_csv('train.csv')\n",
    "df.head()\n",
    "test= pd.read_csv('test.csv')\n",
    "test_ids= test['id']"
   ]
  },
  {
   "cell_type": "code",
   "execution_count": 856,
   "id": "b7361fda-eaec-48b3-ba20-c05031b7a753",
   "metadata": {},
   "outputs": [],
   "source": [
    "# from ydata_profiling import ProfileReport\n",
    "# Report= ProfileReport(df)\n",
    "# Report.to_file(output_file='Report.html')"
   ]
  },
  {
   "cell_type": "code",
   "execution_count": 859,
   "id": "89045d01-a635-4f73-8455-13ca5403dce5",
   "metadata": {
    "scrolled": true
   },
   "outputs": [],
   "source": [
    "df['Academic/Work Pressure'] = df['Academic Pressure'].fillna(df['Work Pressure'])\n",
    "df.drop(['Academic Pressure', 'Work Pressure'], axis=1, inplace=True)\n",
    "\n",
    "#for test data\n",
    "test['Academic/Work Pressure'] = test['Academic Pressure'].fillna(test['Work Pressure'])\n",
    "test.drop(['Academic Pressure', 'Work Pressure'], axis=1, inplace=True)"
   ]
  },
  {
   "cell_type": "code",
   "execution_count": 861,
   "id": "e2c1d75c-bdf9-4476-9853-ec5945c99dbf",
   "metadata": {},
   "outputs": [],
   "source": [
    "df['Job/Study Satisfaction'] = df['Study Satisfaction'].fillna(df['Job Satisfaction'])\n",
    "df.drop(['Study Satisfaction', 'Job Satisfaction'], axis=1, inplace=True)\n",
    "\n",
    "#for test data\n",
    "test['Job/Study Satisfaction'] = test['Study Satisfaction'].fillna(test['Job Satisfaction'])\n",
    "test.drop(['Study Satisfaction', 'Job Satisfaction'], axis=1, inplace=True)"
   ]
  },
  {
   "cell_type": "code",
   "execution_count": 863,
   "id": "9fda65fa-cace-4306-884e-0ccffae48411",
   "metadata": {},
   "outputs": [],
   "source": [
    "df['Profession/Student'] = df['Working Professional or Student'].where(df['Working Professional or Student'] != 'Working Professional', df['Profession'])\n",
    "df.drop(['Working Professional or Student', 'Profession'], axis=1, inplace=True)\n",
    "\n",
    "#for test data\n",
    "test['Profession/Student'] = test['Working Professional or Student'].where(test['Working Professional or Student'] != 'Working Professional', test['Profession'])\n",
    "test.drop(['Working Professional or Student', 'Profession'], axis=1, inplace=True)"
   ]
  },
  {
   "cell_type": "code",
   "execution_count": 865,
   "id": "f69f31c4-b21a-4f13-ac11-77344cfda1f7",
   "metadata": {},
   "outputs": [],
   "source": [
    "df.drop(['CGPA','Name','City'], axis=1, inplace=True)\n",
    "#for test data\n",
    "test.drop(['CGPA','Name','City'], axis=1, inplace=True)"
   ]
  },
  {
   "cell_type": "code",
   "execution_count": 867,
   "id": "7718f791-d2ea-4527-ad21-3508efe03c04",
   "metadata": {
    "scrolled": true
   },
   "outputs": [],
   "source": [
    "# %matplotlib inline\n",
    "# plt.figure(figsize=(10,10))\n",
    "# sns.boxplot(x='Job Satisfaction',y='Academic Pressure',data=df)\n",
    "# plt.show()"
   ]
  },
  {
   "cell_type": "code",
   "execution_count": 869,
   "id": "7552ed2a-b169-45a0-a649-9426e5244d47",
   "metadata": {},
   "outputs": [],
   "source": [
    "def impute_Profession_Student(cols):\n",
    "    Profession_Student = cols[0]\n",
    "    Degree = cols[1]\n",
    "    if pd.isnull(Profession_Student):\n",
    "        if Degree == 'Class 12':\n",
    "            return 'unemployed'\n",
    "    else:\n",
    "        return Profession_Student\n",
    "\n"
   ]
  },
  {
   "cell_type": "code",
   "execution_count": 871,
   "id": "fa32a18a-cb2c-4a97-88cb-66f85a700eb4",
   "metadata": {},
   "outputs": [
    {
     "name": "stderr",
     "output_type": "stream",
     "text": [
      "C:\\Users\\Asus\\AppData\\Local\\Temp\\ipykernel_14444\\2549491652.py:2: FutureWarning: Series.__getitem__ treating keys as positions is deprecated. In a future version, integer keys will always be treated as labels (consistent with DataFrame behavior). To access a value by position, use `ser.iloc[pos]`\n",
      "  Profession_Student = cols[0]\n",
      "C:\\Users\\Asus\\AppData\\Local\\Temp\\ipykernel_14444\\2549491652.py:3: FutureWarning: Series.__getitem__ treating keys as positions is deprecated. In a future version, integer keys will always be treated as labels (consistent with DataFrame behavior). To access a value by position, use `ser.iloc[pos]`\n",
      "  Degree = cols[1]\n",
      "C:\\Users\\Asus\\AppData\\Local\\Temp\\ipykernel_14444\\2549491652.py:2: FutureWarning: Series.__getitem__ treating keys as positions is deprecated. In a future version, integer keys will always be treated as labels (consistent with DataFrame behavior). To access a value by position, use `ser.iloc[pos]`\n",
      "  Profession_Student = cols[0]\n",
      "C:\\Users\\Asus\\AppData\\Local\\Temp\\ipykernel_14444\\2549491652.py:3: FutureWarning: Series.__getitem__ treating keys as positions is deprecated. In a future version, integer keys will always be treated as labels (consistent with DataFrame behavior). To access a value by position, use `ser.iloc[pos]`\n",
      "  Degree = cols[1]\n"
     ]
    }
   ],
   "source": [
    "df['Profession/Student']= df[['Profession/Student','Degree']].apply(impute_Profession_Student,axis=1)\n",
    "df['Profession/Student'].tail(10)\n",
    "\n",
    "#for test data\n",
    "test['Profession/Student']= test[['Profession/Student','Degree']].apply(impute_Profession_Student,axis=1)"
   ]
  },
  {
   "cell_type": "code",
   "execution_count": 873,
   "id": "27735932-38d0-48a0-b989-af84f3573083",
   "metadata": {},
   "outputs": [],
   "source": [
    "# df = df[~df['Sleep Duration'].isin(['Unhealthy','Work_Study_Hours','No','Indore','Moderate','Sleep_Duration','Pune'])]\n",
    "#test = test[~test['Sleep Duration'].isin(['Unhealthy','Work_Study_Hours','No','Indore','Moderate','Sleep_Duration','Pune'])]"
   ]
  },
  {
   "cell_type": "code",
   "execution_count": 875,
   "id": "83899aba-3525-4e2d-8415-8510448a7b36",
   "metadata": {},
   "outputs": [],
   "source": [
    "def categorize_sleep(value):\n",
    "    # Handle specific categories directly\n",
    "    if 'More than 8 hours' in value or '8 hours' in value or '9-11 hours' in value or '10-11 hours' in value:\n",
    "        return 'Over Sleep'\n",
    "    if 'Less than 5 hours' in value or 'than 5 hours' in value or '1-2 hours' in value or '2-3 hours' in value:\n",
    "        return 'Very Little Sleep'\n",
    "    if '5-6 hours' in value or '4-6 hours' in value or '6-7 hours' in value or '3-4 hours' in value:\n",
    "        return 'Little Sleep'\n",
    "    if '6-8 hours' in value or '7-8 hours' in value or '8-9 hours' in value:\n",
    "        return 'Moderate Sleep'\n",
    "    \n",
    "    # Handle unusual or extreme cases (high/low hours)\n",
    "    if '40-45 hours' in value or '45' in value or '49 hours' in value or '35-36 hours' in value or '55-66 hours' in value:\n",
    "        return 'Unusual Sleep'\n",
    "\n",
    "    # Handle other unusual categories\n",
    "    if value in ['Work_Study_Hours', '9-5', '9-5 hours', 'Indore', 'No', 'Unhealthy']:\n",
    "        return 'Unusual Sleep'\n",
    "\n",
    "    # For invalid or unknown categories, mark as 'Unusual Sleep'\n",
    "    return 'Unusual Sleep'\n",
    "\n",
    "# Apply the cleaning function to the 'Sleep Duration' column\n",
    "df['Categorized Sleep Duration'] = df['Sleep Duration'].apply(categorize_sleep)\n",
    "test['Categorized Sleep Duration'] = test['Sleep Duration'].apply(categorize_sleep)"
   ]
  },
  {
   "cell_type": "code",
   "execution_count": 877,
   "id": "f0ec398c-b734-4d66-bb6b-a2bd5f9659f6",
   "metadata": {},
   "outputs": [],
   "source": [
    "def categorize_health_status(value):\n",
    "    if value in ['Healthy', 'More Healthy', 'Yes']:\n",
    "        return 'Healthy'\n",
    "    if value in ['Moderate', 'Less than Healthy', 'Less Healthy', 'No Healthy']:\n",
    "        return 'Moderate'\n",
    "    if value in ['Unhealthy', 'No', 'Vegas', 'Indoor']:\n",
    "        return 'Unhealthy'\n",
    "    \n",
    "    # Handle NaN or unexpected categories\n",
    "    return 'Unknown'\n",
    "\n",
    "# Apply the categorization function to the 'Health Status' column\n",
    "df['Categorized Health Status'] = df['Dietary Habits'].apply(categorize_health_status)\n",
    "\n",
    "test['Categorized Health Status'] = test['Dietary Habits'].apply(categorize_health_status)"
   ]
  },
  {
   "cell_type": "code",
   "execution_count": 879,
   "id": "fb700e51-3246-42a7-8ef7-2b7b46e94f1b",
   "metadata": {},
   "outputs": [],
   "source": [
    "def categorize_degree(value):\n",
    "    if isinstance(value, float) and pd.isna(value):  # Check for NaN values\n",
    "        return 'Unknown'\n",
    "    \n",
    "    # Class 12\n",
    "    if value in ['Class 12', 'Class 11']:\n",
    "        return 'Class 12'\n",
    "    \n",
    "    # B.Ed\n",
    "    if 'B.Ed' in value:\n",
    "        return 'B.Ed'\n",
    "    \n",
    "    # B.Arch\n",
    "    if 'B.Arch' in value or 'BArch' in value:\n",
    "        return 'B.Arch'\n",
    "    \n",
    "    # B.Com\n",
    "    if 'B.Com' in value or 'B B.Com' in value:\n",
    "        return 'B.Com'\n",
    "    \n",
    "    # B.Pharm\n",
    "    if 'B.Pharm' in value or 'BPharm' in value or 'P.Pharm' in value:\n",
    "        return 'B.Pharm'\n",
    "    \n",
    "    # B.Sc\n",
    "    if 'B.Sc' in value or 'BSc' in value:\n",
    "        return 'B.Sc'\n",
    "    \n",
    "    # Bachelors in General\n",
    "    if any(x in value for x in ['BHM', 'BBA', 'BCA', 'BE', 'B.Tech']):\n",
    "        return 'Bachelors in General'\n",
    "    \n",
    "    # Masters\n",
    "    if any(x in value for x in ['MCA', 'MBA', 'M.Tech', 'MSc', 'PhD', 'MA', 'M.Ed']):\n",
    "        return 'Masters'\n",
    "    \n",
    "    # Miscellaneous (non-education categories)\n",
    "    return 'Miscellaneous'\n",
    "\n",
    "# Apply the categorization function to the 'Degree' column\n",
    "df['Categorized Degree'] = df['Degree'].apply(categorize_degree)\n",
    "\n",
    "test['Categorized Degree'] = test['Degree'].apply(categorize_degree)"
   ]
  },
  {
   "cell_type": "code",
   "execution_count": 881,
   "id": "8dc62ab0-a6a0-4022-a646-0eba8b895a7b",
   "metadata": {},
   "outputs": [],
   "source": [
    " \n",
    "known_professions = [\n",
    "    'Student', 'Teacher', 'unemployed', 'Content Writer', 'Architect', 'Consultant', \n",
    "    'HR Manager', 'Pharmacist', 'Doctor', 'Business Analyst', 'Entrepreneur', 'Chemist', \n",
    "    'Chef', 'Educational Consultant', 'Data Scientist', 'Researcher', 'Lawyer', 'Customer Support', \n",
    "    'Marketing Manager', 'Pilot', 'Travel Consultant', 'Plumber', 'Sales Executive', 'Manager', \n",
    "    'Judge', 'Electrician', 'Financial Analyst', 'Software Engineer', 'Civil Engineer', 'UX/UI Designer', \n",
    "    'Digital Marketer', 'Accountant', 'Finanancial Analyst', 'Mechanical Engineer', 'Graphic Designer', \n",
    "    'Research Analyst', 'Investment Banker'\n",
    "]\n",
    "def categorize_profession(value):\n",
    "    if isinstance(value, float) and pd.isna(value):  # Check for NaN values\n",
    "        return 'Unknown'\n",
    "    if value in known_professions:\n",
    "        return value  \n",
    "    else:\n",
    "        return 'Miscellaneous' \n",
    "\n",
    "\n",
    "df['Categorized Profession'] = df['Profession/Student'].apply(categorize_profession)\n",
    "\n",
    "test['Categorized Profession'] = test['Profession/Student'].apply(categorize_profession)"
   ]
  },
  {
   "cell_type": "code",
   "execution_count": 883,
   "id": "c3d4a807-0086-4b01-bf71-7246876dd9e0",
   "metadata": {},
   "outputs": [
    {
     "name": "stdout",
     "output_type": "stream",
     "text": [
      "Unique categories: ['Chef' 'Teacher' 'Student' 'Business Analyst' 'Finanancial Analyst'\n",
      " 'Chemist' 'Electrician' 'Software Engineer' 'Data Scientist' 'Plumber'\n",
      " 'Marketing Manager' 'Accountant' 'Entrepreneur' 'HR Manager'\n",
      " 'UX/UI Designer' 'Content Writer' 'unemployed' 'Educational Consultant'\n",
      " 'Civil Engineer' 'Manager' 'Pharmacist' 'Financial Analyst' 'Architect'\n",
      " 'Mechanical Engineer' 'Customer Support' 'Consultant' 'Judge'\n",
      " 'Researcher' 'Pilot' 'Graphic Designer' 'Travel Consultant'\n",
      " 'Digital Marketer' 'Lawyer' 'Research Analyst' 'Sales Executive' 'Doctor'\n",
      " 'Miscellaneous' 'Investment Banker']\n",
      "Category counts:\n",
      " Categorized Profession\n",
      "Student                   27905\n",
      "Teacher                   24900\n",
      "unemployed                 8590\n",
      "Content Writer             7812\n",
      "Architect                  4362\n",
      "Consultant                 4229\n",
      "HR Manager                 4022\n",
      "Pharmacist                 3891\n",
      "Doctor                     3253\n",
      "Business Analyst           3161\n",
      "Entrepreneur               2967\n",
      "Chemist                    2967\n",
      "Chef                       2860\n",
      "Educational Consultant     2851\n",
      "Data Scientist             2390\n",
      "Researcher                 2328\n",
      "Lawyer                     2211\n",
      "Customer Support           2055\n",
      "Marketing Manager          1976\n",
      "Pilot                      1913\n",
      "Travel Consultant          1860\n",
      "Plumber                    1748\n",
      "Sales Executive            1739\n",
      "Manager                    1736\n",
      "Judge                      1712\n",
      "Electrician                1582\n",
      "Financial Analyst          1574\n",
      "Software Engineer          1510\n",
      "Civil Engineer             1469\n",
      "UX/UI Designer             1451\n",
      "Digital Marketer           1369\n",
      "Accountant                 1339\n",
      "Finanancial Analyst        1329\n",
      "Mechanical Engineer        1177\n",
      "Graphic Designer           1163\n",
      "Research Analyst            690\n",
      "Investment Banker           393\n",
      "Miscellaneous               216\n",
      "Name: count, dtype: int64\n",
      "<class 'pandas.core.series.Series'>\n",
      "RangeIndex: 140700 entries, 0 to 140699\n",
      "Series name: Categorized Profession\n",
      "Non-Null Count   Dtype \n",
      "--------------   ----- \n",
      "140700 non-null  object\n",
      "dtypes: object(1)\n",
      "memory usage: 1.1+ MB\n",
      "Category info:\n",
      " None\n"
     ]
    }
   ],
   "source": [
    "unique_categories = df['Categorized Profession'].unique()\n",
    "print(\"Unique categories:\", unique_categories)\n",
    "\n",
    "# Using value_counts()\n",
    "category_counts = df['Categorized Profession'].value_counts()\n",
    "print(\"Category counts:\\n\", category_counts)\n",
    "category_info = df['Categorized Profession'].info()\n",
    "print(\"Category info:\\n\", category_info)"
   ]
  },
  {
   "cell_type": "code",
   "execution_count": 885,
   "id": "bc5e66a8-b823-4a53-a9b9-4ff8ff5a2c2c",
   "metadata": {},
   "outputs": [],
   "source": [
    "df.drop(['Sleep Duration'], axis=1, inplace=True)\n",
    "\n",
    "test.drop(['Sleep Duration'], axis=1, inplace=True)"
   ]
  },
  {
   "cell_type": "code",
   "execution_count": 887,
   "id": "d6daf872-d27c-4cde-9bd4-1413045beeb8",
   "metadata": {},
   "outputs": [],
   "source": [
    "df.drop(['Dietary Habits'], axis=1, inplace=True)\n",
    "\n",
    "test.drop(['Dietary Habits'], axis=1, inplace=True)"
   ]
  },
  {
   "cell_type": "code",
   "execution_count": 889,
   "id": "af068bdb-d6c5-471d-aa0d-edd203dcd917",
   "metadata": {},
   "outputs": [],
   "source": [
    "df.drop(['Degree'], axis=1, inplace=True)\n",
    "\n",
    "test.drop(['Degree'], axis=1, inplace=True)"
   ]
  },
  {
   "cell_type": "code",
   "execution_count": 891,
   "id": "0647ebdb-c324-4394-b2f3-710618703bc9",
   "metadata": {},
   "outputs": [],
   "source": [
    "df.drop(['Profession/Student'], axis=1, inplace=True)\n",
    "\n",
    "test.drop(['Profession/Student'], axis=1, inplace=True)"
   ]
  },
  {
   "cell_type": "code",
   "execution_count": 893,
   "id": "1cfa7b0c-e94d-4316-9d0e-48b3c6c04b5a",
   "metadata": {},
   "outputs": [
    {
     "data": {
      "image/png": "[encoded data removed]",
      "text/plain": [
       "<Figure size 1000x500 with 2 Axes>"
      ]
     },
     "metadata": {},
     "output_type": "display_data"
    }
   ],
   "source": [
    "plt.figure(figsize=(10,5))\n",
    "sns.heatmap(test.isnull(),yticklabels=False,cmap='viridis')\n",
    "plt.show()"
   ]
  },
  {
   "cell_type": "code",
   "execution_count": 895,
   "id": "0aa21ae5-486d-404a-8f0f-fce6249e937e",
   "metadata": {},
   "outputs": [],
   "source": [
    "from sklearn.compose import make_column_transformer\n",
    "from sklearn.pipeline import make_pipeline\n",
    "from sklearn.experimental import enable_iterative_imputer\n",
    "from sklearn.preprocessing import OneHotEncoder,PowerTransformer,MinMaxScaler,OrdinalEncoder\n",
    "from sklearn.impute import KNNImputer,SimpleImputer,IterativeImputer"
   ]
  },
  {
   "cell_type": "code",
   "execution_count": 897,
   "id": "3316be20-21b0-4bc7-8cd9-226d58c11b4d",
   "metadata": {},
   "outputs": [],
   "source": [
    "numerical_pipeline= make_pipeline(\n",
    "    SimpleImputer(strategy='mean'),\n",
    "    MinMaxScaler(),\n",
    "    PowerTransformer()\n",
    ")\n",
    "categorical_pipeline1= make_pipeline(\n",
    "    OneHotEncoder(sparse_output=False,drop='first'),\n",
    "    MinMaxScaler(),\n",
    "    SimpleImputer(strategy='most_frequent')\n",
    "     \n",
    ")\n",
    "categorical_pipeline2= make_pipeline(\n",
    "    OrdinalEncoder(handle_unknown='use_encoded_value',unknown_value=-1,categories=[['High School','''Bachelor's''','PhD','''Master's'''],['Poor','Average','Good']]),\n",
    "   # IterativeImputer(max_iter=20, random_state=0)\n",
    "    MinMaxScaler()\n",
    ")"
   ]
  },
  {
   "cell_type": "code",
   "execution_count": 899,
   "id": "0291dc09-82d9-49b7-9e82-0d32616e5159",
   "metadata": {},
   "outputs": [
    {
     "name": "stdout",
     "output_type": "stream",
     "text": [
      "Numeric Column Names: Index(['id', 'Age', 'Work/Study Hours', 'Financial Stress', 'Depression',\n",
      "       'Academic/Work Pressure', 'Job/Study Satisfaction'],\n",
      "      dtype='object')\n",
      "Categorical Column Names: Index(['Gender', 'Have you ever had suicidal thoughts ?',\n",
      "       'Family History of Mental Illness', 'Categorized Sleep Duration',\n",
      "       'Categorized Health Status', 'Categorized Degree',\n",
      "       'Categorized Profession'],\n",
      "      dtype='object')\n"
     ]
    }
   ],
   "source": [
    "numeric_columns = df.select_dtypes(include=['number']).columns\n",
    "print(\"Numeric Column Names:\", numeric_columns)\n",
    "categorical_columns = df.select_dtypes(include=['object', 'category']).columns\n",
    "print(\"Categorical Column Names:\", categorical_columns)"
   ]
  },
  {
   "cell_type": "code",
   "execution_count": 901,
   "id": "9941b62e-7d1a-4a7f-811d-ab98ea4f0325",
   "metadata": {},
   "outputs": [],
   "source": [
    "Preprocessor= make_column_transformer( \n",
    "    (numerical_pipeline,['id', 'Age', 'Work/Study Hours', 'Financial Stress',\n",
    "       'Academic/Work Pressure', 'Job/Study Satisfaction']),\n",
    "    (categorical_pipeline1,['Gender','Categorized Sleep Duration', 'Categorized Health Status', 'Categorized Degree',\n",
    "       'Have you ever had suicidal thoughts ?',\n",
    "       'Family History of Mental Illness', 'Categorized Profession']),\n",
    "    \n",
    "    remainder='passthrough')"
   ]
  },
  {
   "cell_type": "code",
   "execution_count": 911,
   "id": "baae2a23-83d5-43f6-8dd5-c948efd67435",
   "metadata": {},
   "outputs": [],
   "source": [
    "x= df.drop(['Depression'],axis=1)\n",
    "y= df['Depression']\n",
    "from sklearn.model_selection import train_test_split\n",
    "x_train,x_test,y_train,y_test= train_test_split(x,y,test_size=0.2,random_state=42)"
   ]
  },
  {
   "cell_type": "code",
   "execution_count": 913,
   "id": "5d84f8f8-c542-4194-b4e9-ac897eaf1dc3",
   "metadata": {},
   "outputs": [],
   "source": [
    "x_train_td=Preprocessor.fit_transform(x_train)\n",
    "x_test_td=Preprocessor.transform(x_test)\n",
    "test_td=Preprocessor.transform(test)"
   ]
  },
  {
   "cell_type": "code",
   "execution_count": 791,
   "id": "2752ee29-7329-4723-8f33-80a22b7e701d",
   "metadata": {},
   "outputs": [
    {
     "name": "stdout",
     "output_type": "stream",
     "text": [
      "Column 'Have you ever had suicidal thoughts ?' contains the categories: ['No']\n",
      "Column 'Family History of Mental Illness' contains the categories: ['No']\n",
      "Column 'Categorized Health Status' contains the categories: ['Unhealthy']\n",
      "Column 'Categorized Degree' contains the categories: ['B.Pharm']\n"
     ]
    }
   ],
   "source": [
    "result = {}\n",
    "for column in df.columns:\n",
    "    found = df[column].isin(['M.Pharm', 'Unhealthy', 'Surat', 'B.Pharm', 'Manvi', 'MCA', 'Name', 'City Consultant', 'No', 'Samar', '24th', 'Surgeon', 'ME', 'Simran', 'MD'])\n",
    "    if found.any():\n",
    "        result[column] = df.loc[found, column].unique().tolist()\n",
    "\n",
    "# Print the result\n",
    "for column, values in result.items():\n",
    "    print(f\"Column '{column}' contains the categories: {values}\")"
   ]
  },
  {
   "cell_type": "code",
   "execution_count": 915,
   "id": "d04b4390-dbce-489d-a0b0-258e2b5847a1",
   "metadata": {},
   "outputs": [
    {
     "data": {
      "text/plain": [
       "0     0\n",
       "1     0\n",
       "2     0\n",
       "3     0\n",
       "4     0\n",
       "     ..\n",
       "57    0\n",
       "58    0\n",
       "59    0\n",
       "60    0\n",
       "61    0\n",
       "Length: 62, dtype: int64"
      ]
     },
     "execution_count": 915,
     "metadata": {},
     "output_type": "execute_result"
    }
   ],
   "source": [
    "pd.DataFrame(test_td).isnull().sum()"
   ]
  },
  {
   "cell_type": "code",
   "execution_count": 917,
   "id": "14a601ee-824f-410d-a393-984f24c4747b",
   "metadata": {},
   "outputs": [
    {
     "name": "stdout",
     "output_type": "stream",
     "text": [
      "Accuracy: 0.9361\n"
     ]
    }
   ],
   "source": [
    "from sklearn.decomposition import PCA\n",
    "from sklearn.linear_model import LogisticRegression\n",
    "from sklearn.pipeline import make_pipeline\n",
    "from sklearn.metrics import accuracy_score\n",
    "\n",
    "pipeline1 = make_pipeline(\n",
    "    PCA(n_components=25),            \n",
    "    LogisticRegression()          \n",
    ")\n",
    "\n",
    "pipeline1.fit(x_train_td, y_train)\n",
    "\n",
    "y_pred = pipeline1.predict(x_test_td)\n",
    "\n",
    "accuracy = accuracy_score(y_test, y_pred)\n",
    "print(f\"Accuracy: {accuracy:.4f}\")"
   ]
  },
  {
   "cell_type": "code",
   "execution_count": 639,
   "id": "c2f6a36d-5174-452c-bf2f-c179d9b51a7d",
   "metadata": {},
   "outputs": [
    {
     "name": "stdout",
     "output_type": "stream",
     "text": [
      "Accuracy: 0.9324\n"
     ]
    }
   ],
   "source": [
    "from sklearn.decomposition import PCA\n",
    "from sklearn.ensemble import RandomForestClassifier\n",
    "from sklearn.pipeline import make_pipeline\n",
    "from sklearn.metrics import accuracy_score\n",
    "pipeline2 = make_pipeline(\n",
    "    PCA(n_components=10),                  # Reduce to 2 principal components\n",
    "    RandomForestClassifier(random_state=42)  # Random Forest classifier\n",
    ")\n",
    "\n",
    "pipeline2.fit(x_train_td, y_train)\n",
    "\n",
    "y_pred = pipeline2.predict(x_test_td)\n",
    "\n",
    "accuracy = accuracy_score(y_test, y_pred)\n",
    "print(f\"Accuracy: {accuracy:.4f}\")"
   ]
  },
  {
   "cell_type": "code",
   "execution_count": 919,
   "id": "b23826d9-6a78-4817-a7f0-fca1ccaba1a0",
   "metadata": {},
   "outputs": [
    {
     "name": "stdout",
     "output_type": "stream",
     "text": [
      "Accuracy: 0.9009\n"
     ]
    }
   ],
   "source": [
    "from sklearn.decomposition import PCA\n",
    "from sklearn.tree import DecisionTreeClassifier\n",
    "from sklearn.pipeline import make_pipeline\n",
    "from sklearn.metrics import accuracy_score\n",
    "pipeline3 = make_pipeline(\n",
    "    PCA(n_components=30),                  \n",
    "    DecisionTreeClassifier(random_state=42) \n",
    ")\n",
    "\n",
    "pipeline3.fit(x_train_td, y_train)\n",
    "\n",
    "y_pred = pipeline3.predict(x_test_td)\n",
    "\n",
    "accuracy = accuracy_score(y_test, y_pred)\n",
    "print(f\"Accuracy: {accuracy:.4f}\")"
   ]
  },
  {
   "cell_type": "code",
   "execution_count": 921,
   "id": "902c919c-4a44-4092-abf6-78b950b5f6b7",
   "metadata": {},
   "outputs": [],
   "source": [
    "submission_pred= pipeline1.predict(test_td)\n",
    "submit= pd.DataFrame({'id':test_ids.values,'Survived':submission_pred,})\n",
    "submit.to_csv('mysubmission.csv',index=False)"
   ]
  },
  {
   "cell_type": "code",
   "execution_count": null,
   "id": "8f088a72-4dc8-4a1b-8730-56b7040b4838",
   "metadata": {},
   "outputs": [],
   "source": []
  }
 ],
 "metadata": {
  "kernelspec": {
   "display_name": "Python [conda env:base] *",
   "language": "python",
   "name": "conda-base-py"
  },
  "language_info": {
   "codemirror_mode": {
    "name": "ipython",
    "version": 3
   },
   "file_extension": ".py",
   "mimetype": "text/x-python",
   "name": "python",
   "nbconvert_exporter": "python",
   "pygments_lexer": "ipython3",
   "version": "3.12.7"
  }
 },
 "nbformat": 4,
 "nbformat_minor": 5
}
